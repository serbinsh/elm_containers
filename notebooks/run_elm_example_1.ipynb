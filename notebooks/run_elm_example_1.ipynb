{
 "cells": [
  {
   "cell_type": "code",
   "execution_count": null,
   "metadata": {},
   "outputs": [],
   "source": [
    "# Setup environment\n",
    "import os\n",
    "import glob\n",
    "import subprocess\n",
    "import sys\n",
    "import time\n",
    "from scipy.io import netcdf as nc\n",
    "\n",
    "import matplotlib.pyplot as plt\n",
    "from os.path import expanduser\n",
    "\n",
    "# Define output path\n",
    "home = expanduser(\"~\")\n",
    "output_dir = os.path.join(home,'scratch')  # main output directory.\n",
    "os.makedirs(os.path.dirname(output_dir), exist_ok=True)\n",
    "print(output_dir)"
   ]
  },
  {
   "cell_type": "code",
   "execution_count": 1,
   "metadata": {},
   "outputs": [
    {
     "name": "stdout",
     "output_type": "stream",
     "text": [
      "serbinsh/elm_containers:e3sm_v110-beta\n"
     ]
    }
   ],
   "source": [
    "# Grab latest CTSM docker container from Docker hub\n",
    "source = \"serbinsh/elm_containers\"\n",
    "docker_container_tag = \"e3sm_v110-beta\"\n",
    "container_name = ''.join([source,\":\",docker_container_tag])\n",
    "print(container_name)\n",
    "docker_pull_command = ''.join([\"docker pull \",source,\":\",docker_container_tag])\n",
    "os.system(docker_pull_command)\n",
    "\n",
    "# you should see docker pull progress in the Jupyter shell"
   ]
  },
  {
   "cell_type": "code",
   "execution_count": null,
   "metadata": {},
   "outputs": [],
   "source": [
    "# Define run parameters for CTSM\n",
    "start_year = '1998-01-01'  # you need to place this in the single quotations\n",
    "num_run_years = 2\n",
    "hostname = \"modex\"\n",
    "user = \"clmuser\"\n",
    "\n",
    "# Define input/output paths (host:container)\n",
    "cesm_input_data_paths = \"~/Data/cesm_input_data:/data\"\n",
    "output_path = ''.join([output_dir,\":/ctsm_output\"])\n",
    "print(output_path)\n",
    "\n",
    "# Define script to run\n",
    "ctsm_case_build_script = \"/ctsm_run_scripts/create_case_1pt_example_USNR1.sh\""
   ]
  }
 ],
 "metadata": {
  "kernelspec": {
   "display_name": "Python 3",
   "language": "python",
   "name": "python3"
  },
  "language_info": {
   "codemirror_mode": {
    "name": "ipython",
    "version": 3
   },
   "file_extension": ".py",
   "mimetype": "text/x-python",
   "name": "python",
   "nbconvert_exporter": "python",
   "pygments_lexer": "ipython3",
   "version": "3.6.7"
  }
 },
 "nbformat": 4,
 "nbformat_minor": 2
}
